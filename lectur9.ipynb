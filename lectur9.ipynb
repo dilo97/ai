{
  "nbformat": 4,
  "nbformat_minor": 0,
  "metadata": {
    "colab": {
      "provenance": [],
      "authorship_tag": "ABX9TyPL564m6D0cjpG2H9enXZIW",
      "include_colab_link": true
    },
    "kernelspec": {
      "name": "python3",
      "display_name": "Python 3"
    },
    "language_info": {
      "name": "python"
    }
  },
  "cells": [
    {
      "cell_type": "markdown",
      "metadata": {
        "id": "view-in-github",
        "colab_type": "text"
      },
      "source": [
        "<a href=\"https://colab.research.google.com/github/dilo97/ai/blob/main/lectur9.ipynb\" target=\"_parent\"><img src=\"https://colab.research.google.com/assets/colab-badge.svg\" alt=\"Open In Colab\"/></a>"
      ]
    },
    {
      "cell_type": "code",
      "execution_count": null,
      "metadata": {
        "colab": {
          "base_uri": "https://localhost:8080/"
        },
        "id": "Yv3oSR3o2pn9",
        "outputId": "c5d4b967-502e-4e8b-9040-7272e92175e2"
      },
      "outputs": [
        {
          "output_type": "stream",
          "name": "stdout",
          "text": [
            "<class 'int'>\n",
            "<class 'float'>\n",
            "<class 'str'>\n",
            "12.2\n",
            "22.0\n",
            "100\n"
          ]
        }
      ],
      "source": [
        "from numpy.random.mtrand import sample\n",
        "sample1=10\n",
        "sample2=2.2\n",
        "sample3='diego'\n",
        "print(type(sample1))\n",
        "print(type(sample2))\n",
        "print(type(sample3))\n",
        "\n",
        "print(sample1+sample2)\n",
        "print(sample1*sample2)\n",
        "print(sample1**2)\n",
        "\n",
        "#s1=True\n",
        "#s2=False\n",
        "#print(s1 and s2)\n",
        "#rint(s1 or s2)\n",
        "#print(not s1)\n",
        "#print(len(sample3))\n",
        "#print (sample3.upper())\n",
        "#print(sample3.lower())\n",
        "#print(sample3.capitalize())"
      ]
    },
    {
      "cell_type": "code",
      "source": [
        "someList=list()\n",
        "someList=['borrador',1,'goma','mochila',True]\n",
        "print(someList[4])\n",
        "print(len(someList))\n",
        "\n",
        "#print('-------')\n",
        "#for i in someList:\n",
        " # print(i)\n",
        "\n",
        "#someList.append('regla')\n",
        "#print('-------')\n",
        "#for i in someList:\n",
        "#print(i)\n",
        "#someList.pop(2)\n",
        "#print('-------')\n",
        "#for i in someList:\n",
        " # print(i)\n",
        "#print('-------')\n",
        "#print(someList[1:5])\n",
        "print(someList[-1])\n",
        "print(someList[1:3])"
      ],
      "metadata": {
        "colab": {
          "base_uri": "https://localhost:8080/"
        },
        "id": "OiMvAnuX3DIg",
        "outputId": "e74a90e7-d60e-44d3-d58e-b4e0abc4a737"
      },
      "execution_count": null,
      "outputs": [
        {
          "output_type": "stream",
          "name": "stdout",
          "text": [
            "True\n",
            "5\n",
            "True\n",
            "[1, 'goma']\n"
          ]
        }
      ]
    },
    {
      "cell_type": "code",
      "source": [
        "d={'name':'diego','age':30,'city':'el carmen'}\n",
        "print(d['name'])\n",
        "print(d['city'])\n",
        "\n",
        "d['uni']='uleam'\n",
        "print(d['uni'])\n",
        "\n",
        "for key in d:\n",
        "  print(d[key])"
      ],
      "metadata": {
        "colab": {
          "base_uri": "https://localhost:8080/"
        },
        "id": "kA6Tw7Zs8_Gg",
        "outputId": "1e3855b3-9014-4b92-c1bb-9ce429dc27c0"
      },
      "execution_count": null,
      "outputs": [
        {
          "output_type": "stream",
          "name": "stdout",
          "text": [
            "diego\n",
            "el carmen\n",
            "uleam\n",
            "diego\n",
            "30\n",
            "el carmen\n",
            "uleam\n"
          ]
        }
      ]
    }
  ]
}