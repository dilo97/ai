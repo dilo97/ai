{
  "nbformat": 4,
  "nbformat_minor": 0,
  "metadata": {
    "colab": {
      "provenance": []
    },
    "kernelspec": {
      "name": "python3",
      "display_name": "Python 3"
    },
    "language_info": {
      "name": "python"
    }
  },
  "cells": [
    {
      "cell_type": "markdown",
      "source": [
        "NumPy Exercises for Data Analysis"
      ],
      "metadata": {
        "id": "hSsi2_-klame"
      }
    },
    {
      "cell_type": "code",
      "source": [
        "# 1. Import numpy as np and see the version\n",
        "\n",
        "import numpy as np\n",
        "\n",
        "print(np.__version__)\n",
        "pass"
      ],
      "metadata": {
        "id": "kuK4TNepldem",
        "outputId": "10496bd3-64ed-4904-fa5a-432b1c6d6083",
        "colab": {
          "base_uri": "https://localhost:8080/"
        }
      },
      "execution_count": null,
      "outputs": [
        {
          "output_type": "stream",
          "name": "stdout",
          "text": [
            "1.22.4\n"
          ]
        }
      ]
    },
    {
      "cell_type": "code",
      "source": [
        "# 2. Create a 1D array of numbers from 0 to 9\n",
        "# your code here\n",
        "pass"
      ],
      "metadata": {
        "id": "hbYX-oMBlvS-"
      },
      "execution_count": null,
      "outputs": []
    },
    {
      "cell_type": "code",
      "source": [
        "# 3. Create a 3×3 numpy array of all True’s\n",
        "arr = np.ones((3, 3), dtype=bool)\n",
        "print(arr)\n",
        "pass"
      ],
      "metadata": {
        "id": "C9nBztXhl9NA",
        "outputId": "9a81a3dc-82a3-43bc-935d-0d25fa850507",
        "colab": {
          "base_uri": "https://localhost:8080/"
        }
      },
      "execution_count": null,
      "outputs": [
        {
          "output_type": "stream",
          "name": "stdout",
          "text": [
            "[[ True  True  True]\n",
            " [ True  True  True]\n",
            " [ True  True  True]]\n"
          ]
        }
      ]
    },
    {
      "cell_type": "code",
      "source": [
        "# 4. Extract all odd numbers from arr\n",
        "arr = np.array([[1, 2, 3], [4, 5, 6], [7, 8, 9]])\n",
        "odd_nums = arr[arr % 2 == 1]\n",
        "print(odd_nums)\n",
        "pass"
      ],
      "metadata": {
        "id": "W18lqbBwmIhw",
        "outputId": "77d18e0a-74f4-4f9c-eb4a-57247e59edca",
        "colab": {
          "base_uri": "https://localhost:8080/"
        }
      },
      "execution_count": null,
      "outputs": [
        {
          "output_type": "stream",
          "name": "stdout",
          "text": [
            "[1 3 5 7 9]\n"
          ]
        }
      ]
    },
    {
      "cell_type": "code",
      "source": [
        "# 5. Replace all odd numbers in arr with -1\n",
        "mask = arr % 2 == 1\n",
        "arr[mask] = -1\n",
        "print(arr)\n",
        "pass"
      ],
      "metadata": {
        "id": "X7ol3alqmbNa",
        "outputId": "a7d61bc6-7010-4cfc-976b-d0a6849e187c",
        "colab": {
          "base_uri": "https://localhost:8080/"
        }
      },
      "execution_count": null,
      "outputs": [
        {
          "output_type": "stream",
          "name": "stdout",
          "text": [
            "[[-1  2 -1]\n",
            " [ 4 -1  6]\n",
            " [-1  8 -1]]\n"
          ]
        }
      ]
    },
    {
      "cell_type": "code",
      "source": [
        "#  6. Convert a 1D array to a 2D array with 2 rows\n",
        "arr = np.array([1, 2, 3, 4, 5, 6])\n",
        "new_arr = arr.reshape(2, -1)\n",
        "print(new_arr)\n",
        "pass"
      ],
      "metadata": {
        "id": "LvcL1lUYoPjN",
        "outputId": "f7d30d44-6284-4d01-a043-d60400e80657",
        "colab": {
          "base_uri": "https://localhost:8080/"
        }
      },
      "execution_count": null,
      "outputs": [
        {
          "output_type": "stream",
          "name": "stdout",
          "text": [
            "[[1 2 3]\n",
            " [4 5 6]]\n"
          ]
        }
      ]
    },
    {
      "cell_type": "code",
      "source": [
        "#  7. Stack arrays a and b vertically\n",
        "a = np.array([[1, 2, 3], [4, 5, 6]])\n",
        "b = np.array([[7, 8, 9], [10, 11, 12]])\n",
        "c = np.vstack((a, b))\n",
        "print(c)\n",
        "pass"
      ],
      "metadata": {
        "id": "SW3KvPXhoeie",
        "outputId": "59810121-c35c-4f19-aeb3-10744763b189",
        "colab": {
          "base_uri": "https://localhost:8080/"
        }
      },
      "execution_count": null,
      "outputs": [
        {
          "output_type": "stream",
          "name": "stdout",
          "text": [
            "[[ 1  2  3]\n",
            " [ 4  5  6]\n",
            " [ 7  8  9]\n",
            " [10 11 12]]\n"
          ]
        }
      ]
    },
    {
      "cell_type": "code",
      "source": [
        "#  8. Stack the arrays a and b horizontally.\n",
        "a = np.array([[1, 2, 3], [4, 5, 6]])\n",
        "b = np.array([[7, 8, 9], [10, 11, 12]])\n",
        "c = np.hstack((a, b))\n",
        "print(c)\n",
        "pass"
      ],
      "metadata": {
        "id": "6wVOpIT9omwe",
        "outputId": "7b597bc0-1dff-434f-ce97-f1640691849a",
        "colab": {
          "base_uri": "https://localhost:8080/"
        }
      },
      "execution_count": null,
      "outputs": [
        {
          "output_type": "stream",
          "name": "stdout",
          "text": [
            "[[ 1  2  3  7  8  9]\n",
            " [ 4  5  6 10 11 12]]\n"
          ]
        }
      ]
    },
    {
      "cell_type": "code",
      "source": [
        "#  9. Get all items between 5 and 10 from a.\n",
        "a = np.array([2, 6, 1, 9, 10, 3, 27])\n",
        "mask = (a >= 5) & (a <= 10)\n",
        "result = a[mask]\n",
        "\n",
        "print(result)\n",
        "import numpy as np\n",
        "a = np.arange(15)\n",
        "# pass"
      ],
      "metadata": {
        "id": "L_7vMkGOo0gX",
        "outputId": "dc17e9ee-deaf-4621-c0da-91ff7a41e91e",
        "colab": {
          "base_uri": "https://localhost:8080/"
        }
      },
      "execution_count": null,
      "outputs": [
        {
          "output_type": "stream",
          "name": "stdout",
          "text": [
            "[ 6  9 10]\n"
          ]
        }
      ]
    },
    {
      "cell_type": "code",
      "source": [
        "#  10. How to make a python function that handles scalars to work on numpy arrays?\n",
        "# Hint\n",
        "# Desired Output:\n",
        "# a = np.array([5, 7, 9, 8, 6, 4, 5])\n",
        "# b = np.array([6, 3, 4, 8, 9, 7, 1])\n",
        "# pair_max(a, b)\n",
        "# #> array([ 6.,  7.,  9.,  8.,  9.,  7.,  5.])\n",
        "\n",
        "\n",
        "# your code here\n",
        "\n",
        "def my_func(x):\n",
        "    return x ** 2 + 1\n",
        "    my_func_vec = np.vectorize(my_func)\n",
        "    arr = np.array([5, 7, 9, 8, 6, 4, 5])\n",
        "    arr = np.array([6, 3, 4, 8, 9, 7, 1])\n",
        "    pair_max(a, b)\n",
        "    result = my_func_vec(arr)\n",
        "\n",
        "print(result)\n",
        "import numpy as np\n",
        "\n",
        "def maxx(x, y):\n",
        "    \"\"\"Get the maximum of two items\"\"\"\n",
        "    if x >= y:\n",
        "        return x\n",
        "    else:\n",
        "        return y\n",
        "\n",
        "maxx(1, 5)\n"
      ],
      "metadata": {
        "colab": {
          "base_uri": "https://localhost:8080/"
        },
        "id": "FVZz6ZY0p9ya",
        "outputId": "c5cc82eb-2ab2-429c-eee7-146363a7a443"
      },
      "execution_count": null,
      "outputs": [
        {
          "output_type": "stream",
          "name": "stdout",
          "text": [
            "[ 6  9 10]\n"
          ]
        },
        {
          "output_type": "execute_result",
          "data": {
            "text/plain": [
              "5"
            ]
          },
          "metadata": {},
          "execution_count": 17
        }
      ]
    },
    {
      "cell_type": "code",
      "source": [
        "#  11. Swap columns 1 and 2 in the array arr.\n",
        "# Hint\n",
        "# Desired Output:\n",
        "# [[0 2 1]\n",
        "#  [3 5 4]\n",
        "#  [6 8 7]]\n",
        "\n",
        "\n",
        "arr = np.arange(9).reshape(3,3)\n",
        "print(arr)\n",
        "# your code here\n",
        "arr = np.array([[0, 2, 1], [3, 5, 4], [6, 8, 7]])\n",
        "arr[:, [1, 0, 2]] = arr[:, [0, 1, 2]]\n",
        "pass\n"
      ],
      "metadata": {
        "colab": {
          "base_uri": "https://localhost:8080/"
        },
        "outputId": "13d6889e-aae1-4f7a-d8bc-8853dd211f34",
        "id": "8vIzM5e8ql6i"
      },
      "execution_count": null,
      "outputs": [
        {
          "output_type": "stream",
          "name": "stdout",
          "text": [
            "[[0 1 2]\n",
            " [3 4 5]\n",
            " [6 7 8]]\n"
          ]
        }
      ]
    },
    {
      "cell_type": "code",
      "source": [
        "#  12. Create a 2D array of shape 5x3 to contain random decimal numbers between 5 and 10.\n",
        "# Hint\n",
        "# The desired Output should be like the following one:\n",
        "#  [[ 8.50061025  9.10531502  6.85867783]\n",
        "#   [ 9.76262069  9.87717411  7.13466701]\n",
        "#   [ 7.48966403  8.33409158  6.16808631]\n",
        "#   [ 7.75010551  9.94535696  5.27373226]\n",
        "#   [ 8.0850361   5.56165518  7.31244004]]\n",
        "\n",
        "arr = np.random.uniform(low=5, high=10, size=(5,3))\n",
        "\n",
        "print(arr)"
      ],
      "metadata": {
        "id": "FOXX5b17rY7E",
        "outputId": "c0c0390e-63a5-43ee-c918-264f9d746b35",
        "colab": {
          "base_uri": "https://localhost:8080/"
        }
      },
      "execution_count": null,
      "outputs": [
        {
          "output_type": "stream",
          "name": "stdout",
          "text": [
            "[[6.50288792 8.22029802 5.36766788]\n",
            " [9.16155137 8.31131619 8.50574495]\n",
            " [7.53966445 8.03151441 6.21299538]\n",
            " [9.50225979 9.28089916 8.59176978]\n",
            " [9.33437711 9.34242831 7.11835439]]\n"
          ]
        }
      ]
    }
  ]
}